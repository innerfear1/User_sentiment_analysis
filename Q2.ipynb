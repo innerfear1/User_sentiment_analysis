{
 "cells": [
  {
   "cell_type": "code",
   "execution_count": 8,
   "id": "293295c2",
   "metadata": {},
   "outputs": [],
   "source": [
    "import pandas as pd\n",
    "import os\n",
    "import json\n",
    "from wordcloud import WordCloud\n",
    "from os import path\n",
    "import matplotlib.pyplot as plt\n",
    "import jieba\n",
    "import numpy as np\n",
    "import warnings\n",
    "warnings.filterwarnings('ignore')"
   ]
  },
  {
   "cell_type": "code",
   "execution_count": 9,
   "id": "fa5ddad5",
   "metadata": {
    "scrolled": true
   },
   "outputs": [
    {
     "data": {
      "text/html": [
       "<div>\n",
       "<style scoped>\n",
       "    .dataframe tbody tr th:only-of-type {\n",
       "        vertical-align: middle;\n",
       "    }\n",
       "\n",
       "    .dataframe tbody tr th {\n",
       "        vertical-align: top;\n",
       "    }\n",
       "\n",
       "    .dataframe thead th {\n",
       "        text-align: right;\n",
       "    }\n",
       "</style>\n",
       "<table border=\"1\" class=\"dataframe\">\n",
       "  <thead>\n",
       "    <tr style=\"text-align: right;\">\n",
       "      <th></th>\n",
       "      <th>target</th>\n",
       "      <th>userId</th>\n",
       "      <th>sellerId</th>\n",
       "      <th>timestamp</th>\n",
       "      <th>comment</th>\n",
       "    </tr>\n",
       "  </thead>\n",
       "  <tbody>\n",
       "    <tr>\n",
       "      <th>0</th>\n",
       "      <td>1</td>\n",
       "      <td>127</td>\n",
       "      <td>1708</td>\n",
       "      <td>2019-10-01 00:57:45</td>\n",
       "      <td>订餐   半小时 不见 餐   催 挂 电话</td>\n",
       "    </tr>\n",
       "    <tr>\n",
       "      <th>1</th>\n",
       "      <td>1</td>\n",
       "      <td>1661</td>\n",
       "      <td>886</td>\n",
       "      <td>2019-10-01 00:42:07</td>\n",
       "      <td>太 不靠 谱           漏发 订单 菜 送错   早 送 小时</td>\n",
       "    </tr>\n",
       "    <tr>\n",
       "      <th>2</th>\n",
       "      <td>0</td>\n",
       "      <td>92758</td>\n",
       "      <td>10612</td>\n",
       "      <td>2019-10-01 00:51:18</td>\n",
       "      <td>超级 超级 喜欢 吃   每次 好开心   口味   建议 手套 戴 几双   吃 完 形象...</td>\n",
       "    </tr>\n",
       "    <tr>\n",
       "      <th>3</th>\n",
       "      <td>0</td>\n",
       "      <td>1639</td>\n",
       "      <td>1699</td>\n",
       "      <td>2019-10-03 00:01:56</td>\n",
       "      <td>谢谢 快递 哥哥   准时   辛苦</td>\n",
       "    </tr>\n",
       "    <tr>\n",
       "      <th>4</th>\n",
       "      <td>1</td>\n",
       "      <td>241839</td>\n",
       "      <td>36556</td>\n",
       "      <td>2019-10-01 00:07:56</td>\n",
       "      <td>差得 餐厅   上菜 慢   贵   餐厅 饿死 那种   面条 味道   一碗      ...</td>\n",
       "    </tr>\n",
       "    <tr>\n",
       "      <th>...</th>\n",
       "      <td>...</td>\n",
       "      <td>...</td>\n",
       "      <td>...</td>\n",
       "      <td>...</td>\n",
       "      <td>...</td>\n",
       "    </tr>\n",
       "    <tr>\n",
       "      <th>17948</th>\n",
       "      <td>0</td>\n",
       "      <td>34025</td>\n",
       "      <td>24833</td>\n",
       "      <td>2020-09-25 23:15:36</td>\n",
       "      <td>感觉 好像 发挥 稳定   几此   有好有坏   吃 日料 关注 三文鱼   中等   不...</td>\n",
       "    </tr>\n",
       "    <tr>\n",
       "      <th>17949</th>\n",
       "      <td>1</td>\n",
       "      <td>656</td>\n",
       "      <td>901</td>\n",
       "      <td>2020-09-25 23:17:49</td>\n",
       "      <td>订 九点 送到   十二点</td>\n",
       "    </tr>\n",
       "    <tr>\n",
       "      <th>17950</th>\n",
       "      <td>1</td>\n",
       "      <td>612</td>\n",
       "      <td>743</td>\n",
       "      <td>2020-09-27 23:36:59</td>\n",
       "      <td>差评   辣白菜 五花肉 石锅 拌 饭 超级 难吃   五花肉 硬 难吃   感觉 新鲜  ...</td>\n",
       "    </tr>\n",
       "    <tr>\n",
       "      <th>17951</th>\n",
       "      <td>1</td>\n",
       "      <td>146739</td>\n",
       "      <td>15687</td>\n",
       "      <td>2020-09-27 23:53:15</td>\n",
       "      <td>贵 好吃   老婆 几次 非要   一吃 真 难吃   蒸 没错   炒菜 油腻   菜 好...</td>\n",
       "    </tr>\n",
       "    <tr>\n",
       "      <th>17952</th>\n",
       "      <td>1</td>\n",
       "      <td>444</td>\n",
       "      <td>1143</td>\n",
       "      <td>2020-09-27 23:59:20</td>\n",
       "      <td>小炒 肉太辣   辣椒 放太多   凉粉 更辣   筷子 要用 手 抓 吃</td>\n",
       "    </tr>\n",
       "  </tbody>\n",
       "</table>\n",
       "<p>17953 rows × 5 columns</p>\n",
       "</div>"
      ],
      "text/plain": [
       "       target  userId  sellerId           timestamp  \\\n",
       "0           1     127      1708 2019-10-01 00:57:45   \n",
       "1           1    1661       886 2019-10-01 00:42:07   \n",
       "2           0   92758     10612 2019-10-01 00:51:18   \n",
       "3           0    1639      1699 2019-10-03 00:01:56   \n",
       "4           1  241839     36556 2019-10-01 00:07:56   \n",
       "...       ...     ...       ...                 ...   \n",
       "17948       0   34025     24833 2020-09-25 23:15:36   \n",
       "17949       1     656       901 2020-09-25 23:17:49   \n",
       "17950       1     612       743 2020-09-27 23:36:59   \n",
       "17951       1  146739     15687 2020-09-27 23:53:15   \n",
       "17952       1     444      1143 2020-09-27 23:59:20   \n",
       "\n",
       "                                                 comment  \n",
       "0                                 订餐   半小时 不见 餐   催 挂 电话  \n",
       "1                   太 不靠 谱           漏发 订单 菜 送错   早 送 小时  \n",
       "2      超级 超级 喜欢 吃   每次 好开心   口味   建议 手套 戴 几双   吃 完 形象...  \n",
       "3                                     谢谢 快递 哥哥   准时   辛苦  \n",
       "4      差得 餐厅   上菜 慢   贵   餐厅 饿死 那种   面条 味道   一碗      ...  \n",
       "...                                                  ...  \n",
       "17948  感觉 好像 发挥 稳定   几此   有好有坏   吃 日料 关注 三文鱼   中等   不...  \n",
       "17949                                    订 九点 送到   十二点    \n",
       "17950  差评   辣白菜 五花肉 石锅 拌 饭 超级 难吃   五花肉 硬 难吃   感觉 新鲜  ...  \n",
       "17951  贵 好吃   老婆 几次 非要   一吃 真 难吃   蒸 没错   炒菜 油腻   菜 好...  \n",
       "17952              小炒 肉太辣   辣椒 放太多   凉粉 更辣   筷子 要用 手 抓 吃  \n",
       "\n",
       "[17953 rows x 5 columns]"
      ]
     },
     "execution_count": 9,
     "metadata": {},
     "output_type": "execute_result"
    }
   ],
   "source": [
    "data = pd.read_excel('clean_data.xlsx')\n",
    "data"
   ]
  },
  {
   "cell_type": "code",
   "execution_count": 10,
   "id": "31e9e9b1",
   "metadata": {},
   "outputs": [],
   "source": [
    "def year_month_day_hour_minute_second(data):\n",
    "    data['timestamp'] = data['timestamp'].astype(str)\n",
    "    data['year'] = data['timestamp'].apply(lambda x: x[0:4])\n",
    "    data['month'] = data['timestamp'].apply(lambda x: x[5:7])\n",
    "    data['day'] = data['timestamp'].apply(lambda x: x[8:10])\n",
    "    data['hour'] = data['timestamp'].apply(lambda x: x[11:13])\n",
    "    data['minute'] = data['timestamp'].apply(lambda x: x[14:16])\n",
    "    data['second'] = data['timestamp'].apply(lambda x: x[17:19])\n",
    "    return data\n",
    "data = year_month_day_hour_minute_second(data)\n",
    "data.to_excel('./Q2/Q2_data.xlsx',index=None)"
   ]
  },
  {
   "cell_type": "code",
   "execution_count": 11,
   "id": "d48c36a9",
   "metadata": {},
   "outputs": [
    {
     "data": {
      "text/html": [
       "<div>\n",
       "<style scoped>\n",
       "    .dataframe tbody tr th:only-of-type {\n",
       "        vertical-align: middle;\n",
       "    }\n",
       "\n",
       "    .dataframe tbody tr th {\n",
       "        vertical-align: top;\n",
       "    }\n",
       "\n",
       "    .dataframe thead th {\n",
       "        text-align: right;\n",
       "    }\n",
       "</style>\n",
       "<table border=\"1\" class=\"dataframe\">\n",
       "  <thead>\n",
       "    <tr style=\"text-align: right;\">\n",
       "      <th></th>\n",
       "      <th>target</th>\n",
       "      <th>userId</th>\n",
       "      <th>sellerId</th>\n",
       "      <th>timestamp</th>\n",
       "      <th>comment</th>\n",
       "      <th>year</th>\n",
       "      <th>month</th>\n",
       "      <th>day</th>\n",
       "      <th>hour</th>\n",
       "      <th>minute</th>\n",
       "      <th>second</th>\n",
       "    </tr>\n",
       "  </thead>\n",
       "  <tbody>\n",
       "    <tr>\n",
       "      <th>0</th>\n",
       "      <td>1</td>\n",
       "      <td>127</td>\n",
       "      <td>1708</td>\n",
       "      <td>2019-10-01 00:57:45</td>\n",
       "      <td>订餐   半小时 不见 餐   催 挂 电话</td>\n",
       "      <td>2019</td>\n",
       "      <td>10</td>\n",
       "      <td>1</td>\n",
       "      <td>0</td>\n",
       "      <td>57</td>\n",
       "      <td>45</td>\n",
       "    </tr>\n",
       "    <tr>\n",
       "      <th>1</th>\n",
       "      <td>1</td>\n",
       "      <td>1661</td>\n",
       "      <td>886</td>\n",
       "      <td>2019-10-01 00:42:07</td>\n",
       "      <td>太 不靠 谱           漏发 订单 菜 送错   早 送 小时</td>\n",
       "      <td>2019</td>\n",
       "      <td>10</td>\n",
       "      <td>1</td>\n",
       "      <td>0</td>\n",
       "      <td>42</td>\n",
       "      <td>7</td>\n",
       "    </tr>\n",
       "    <tr>\n",
       "      <th>2</th>\n",
       "      <td>0</td>\n",
       "      <td>92758</td>\n",
       "      <td>10612</td>\n",
       "      <td>2019-10-01 00:51:18</td>\n",
       "      <td>超级 超级 喜欢 吃   每次 好开心   口味   建议 手套 戴 几双   吃 完 形象...</td>\n",
       "      <td>2019</td>\n",
       "      <td>10</td>\n",
       "      <td>1</td>\n",
       "      <td>0</td>\n",
       "      <td>51</td>\n",
       "      <td>18</td>\n",
       "    </tr>\n",
       "    <tr>\n",
       "      <th>3</th>\n",
       "      <td>0</td>\n",
       "      <td>1639</td>\n",
       "      <td>1699</td>\n",
       "      <td>2019-10-03 00:01:56</td>\n",
       "      <td>谢谢 快递 哥哥   准时   辛苦</td>\n",
       "      <td>2019</td>\n",
       "      <td>10</td>\n",
       "      <td>3</td>\n",
       "      <td>0</td>\n",
       "      <td>1</td>\n",
       "      <td>56</td>\n",
       "    </tr>\n",
       "    <tr>\n",
       "      <th>4</th>\n",
       "      <td>1</td>\n",
       "      <td>241839</td>\n",
       "      <td>36556</td>\n",
       "      <td>2019-10-01 00:07:56</td>\n",
       "      <td>差得 餐厅   上菜 慢   贵   餐厅 饿死 那种   面条 味道   一碗      ...</td>\n",
       "      <td>2019</td>\n",
       "      <td>10</td>\n",
       "      <td>1</td>\n",
       "      <td>0</td>\n",
       "      <td>7</td>\n",
       "      <td>56</td>\n",
       "    </tr>\n",
       "  </tbody>\n",
       "</table>\n",
       "</div>"
      ],
      "text/plain": [
       "   target  userId  sellerId            timestamp  \\\n",
       "0       1     127      1708  2019-10-01 00:57:45   \n",
       "1       1    1661       886  2019-10-01 00:42:07   \n",
       "2       0   92758     10612  2019-10-01 00:51:18   \n",
       "3       0    1639      1699  2019-10-03 00:01:56   \n",
       "4       1  241839     36556  2019-10-01 00:07:56   \n",
       "\n",
       "                                             comment  year  month  day  hour  \\\n",
       "0                             订餐   半小时 不见 餐   催 挂 电话  2019     10    1     0   \n",
       "1               太 不靠 谱           漏发 订单 菜 送错   早 送 小时  2019     10    1     0   \n",
       "2  超级 超级 喜欢 吃   每次 好开心   口味   建议 手套 戴 几双   吃 完 形象...  2019     10    1     0   \n",
       "3                                 谢谢 快递 哥哥   准时   辛苦  2019     10    3     0   \n",
       "4  差得 餐厅   上菜 慢   贵   餐厅 饿死 那种   面条 味道   一碗      ...  2019     10    1     0   \n",
       "\n",
       "   minute  second  \n",
       "0      57      45  \n",
       "1      42       7  \n",
       "2      51      18  \n",
       "3       1      56  \n",
       "4       7      56  "
      ]
     },
     "execution_count": 11,
     "metadata": {},
     "output_type": "execute_result"
    }
   ],
   "source": [
    "Q2_data = pd.read_excel('./Q2/Q2_data.xlsx')\n",
    "Q2_data.head()"
   ]
  },
  {
   "cell_type": "code",
   "execution_count": 12,
   "id": "f69a7b1b",
   "metadata": {
    "scrolled": true
   },
   "outputs": [
    {
     "data": {
      "text/html": [
       "<div>\n",
       "<style scoped>\n",
       "    .dataframe tbody tr th:only-of-type {\n",
       "        vertical-align: middle;\n",
       "    }\n",
       "\n",
       "    .dataframe tbody tr th {\n",
       "        vertical-align: top;\n",
       "    }\n",
       "\n",
       "    .dataframe thead th {\n",
       "        text-align: right;\n",
       "    }\n",
       "</style>\n",
       "<table border=\"1\" class=\"dataframe\">\n",
       "  <thead>\n",
       "    <tr style=\"text-align: right;\">\n",
       "      <th></th>\n",
       "      <th>target</th>\n",
       "      <th></th>\n",
       "      <th>month</th>\n",
       "    </tr>\n",
       "  </thead>\n",
       "  <tbody>\n",
       "    <tr>\n",
       "      <th>0</th>\n",
       "      <td>1</td>\n",
       "      <td>month</td>\n",
       "      <td>10</td>\n",
       "    </tr>\n",
       "    <tr>\n",
       "      <th>1</th>\n",
       "      <td>1</td>\n",
       "      <td>month</td>\n",
       "      <td>10</td>\n",
       "    </tr>\n",
       "    <tr>\n",
       "      <th>2</th>\n",
       "      <td>0</td>\n",
       "      <td>month</td>\n",
       "      <td>10</td>\n",
       "    </tr>\n",
       "    <tr>\n",
       "      <th>3</th>\n",
       "      <td>0</td>\n",
       "      <td>month</td>\n",
       "      <td>10</td>\n",
       "    </tr>\n",
       "    <tr>\n",
       "      <th>4</th>\n",
       "      <td>1</td>\n",
       "      <td>month</td>\n",
       "      <td>10</td>\n",
       "    </tr>\n",
       "  </tbody>\n",
       "</table>\n",
       "</div>"
      ],
      "text/plain": [
       "   target         month\n",
       "0       1  month     10\n",
       "1       1  month     10\n",
       "2       0  month     10\n",
       "3       0  month     10\n",
       "4       1  month     10"
      ]
     },
     "execution_count": 12,
     "metadata": {},
     "output_type": "execute_result"
    }
   ],
   "source": [
    "df_month = Q2_data.melt(id_vars=['target'],value_vars=['month'],var_name='',value_name='month')\n",
    "df_month.head()"
   ]
  },
  {
   "cell_type": "code",
   "execution_count": 13,
   "id": "54fea4fc",
   "metadata": {
    "scrolled": true
   },
   "outputs": [
    {
     "data": {
      "image/png": "[encoded data removed]",
      "text/plain": [
       "<Figure size 640x480 with 1 Axes>"
      ]
     },
     "metadata": {},
     "output_type": "display_data"
    }
   ],
   "source": [
    "import seaborn as sns\n",
    "plt.rcParams['font.sans-serif'] = ['KaiTi','SimHei','FangSong']\n",
    "plt.rcParams['font.size'] = 12\n",
    "plt.rcParams['axes.unicode_minus'] = False\n",
    "df_month.colums=['target','month']\n",
    "sns.boxplot(x = 'target',y = 'month',data=df_month)\n",
    "plt.show()"
   ]
  },
  {
   "cell_type": "code",
   "execution_count": 14,
   "id": "bb82b89a",
   "metadata": {
    "scrolled": true
   },
   "outputs": [
    {
     "name": "stdout",
     "output_type": "stream",
     "text": [
      "               df       sum_sq   mean_sq        F    PR(>F)\n",
      "C(month)     11.0     4.903183  0.445744  1.78579  0.050561\n",
      "Residual  17941.0  4478.182207  0.249606      NaN       NaN\n"
     ]
    }
   ],
   "source": [
    "from statsmodels.formula.api import ols\n",
    "from statsmodels.stats.anova import anova_lm\n",
    "model_month = ols('target~C(month)',df_month).fit()\n",
    "anova_table=anova_lm(model_month)\n",
    "print(anova_table)"
   ]
  },
  {
   "cell_type": "code",
   "execution_count": 15,
   "id": "5e3a36e1",
   "metadata": {
    "scrolled": true
   },
   "outputs": [
    {
     "data": {
      "image/png": "[encoded data removed]",
      "text/plain": [
       "<Figure size 640x480 with 1 Axes>"
      ]
     },
     "metadata": {},
     "output_type": "display_data"
    }
   ],
   "source": [
    "df_day = Q2_data.melt(id_vars=['target'],value_vars=['day'],var_name='',value_name='day')\n",
    "df_day.head()\n",
    "plt.rcParams['font.sans-serif'] = ['KaiTi','SimHei','FangSong']\n",
    "plt.rcParams['font.size'] = 12\n",
    "plt.rcParams['axes.unicode_minus'] = False\n",
    "df_month.colums=['target','month']\n",
    "sns.boxplot(x = 'target',y = 'day',data=df_day)\n",
    "plt.show()"
   ]
  },
  {
   "cell_type": "code",
   "execution_count": 16,
   "id": "cb7b9323",
   "metadata": {},
   "outputs": [
    {
     "name": "stdout",
     "output_type": "stream",
     "text": [
      "               df       sum_sq   mean_sq         F   PR(>F)\n",
      "C(day)       30.0     7.405589  0.246853  0.988475  0.48353\n",
      "Residual  17922.0  4475.679801  0.249731       NaN      NaN\n"
     ]
    }
   ],
   "source": [
    "model_day = ols('target~C(day)',df_day).fit()\n",
    "anova_table=anova_lm(model_day)\n",
    "print(anova_table)"
   ]
  },
  {
   "cell_type": "code",
   "execution_count": 17,
   "id": "8a339b8a",
   "metadata": {
    "scrolled": true
   },
   "outputs": [
    {
     "data": {
      "image/png": "[encoded data removed]",
      "text/plain": [
       "<Figure size 640x480 with 1 Axes>"
      ]
     },
     "metadata": {},
     "output_type": "display_data"
    },
    {
     "name": "stdout",
     "output_type": "stream",
     "text": [
      "               df       sum_sq   mean_sq         F    PR(>F)\n",
      "C(hour)      23.0     6.005002  0.261087  1.045554  0.401281\n",
      "Residual  17929.0  4477.080387  0.249712       NaN       NaN\n"
     ]
    }
   ],
   "source": [
    "df_hour = Q2_data.melt(id_vars=['target'],value_vars=['hour'],var_name='',value_name='hour')\n",
    "# df_day.head()\n",
    "plt.rcParams['font.sans-serif'] = ['KaiTi','SimHei','FangSong']\n",
    "plt.rcParams['font.size'] = 12\n",
    "plt.rcParams['axes.unicode_minus'] = False\n",
    "df_month.colums=['target','hour']\n",
    "sns.boxplot(x = 'target',y = 'hour',data=df_hour)\n",
    "plt.show()\n",
    "model_hour = ols('target~C(hour)',df_hour).fit()\n",
    "anova_table=anova_lm(model_hour)\n",
    "print(anova_table)"
   ]
  },
  {
   "cell_type": "code",
   "execution_count": 18,
   "id": "bb597a34",
   "metadata": {},
   "outputs": [
    {
     "data": {
      "image/png": "[encoded data removed]",
      "text/plain": [
       "<Figure size 640x480 with 1 Axes>"
      ]
     },
     "metadata": {},
     "output_type": "display_data"
    },
    {
     "name": "stdout",
     "output_type": "stream",
     "text": [
      "               df       sum_sq   mean_sq         F    PR(>F)\n",
      "C(year)       1.0     0.351635  0.351635  1.408112  0.235386\n",
      "Residual  17951.0  4482.733755  0.249721       NaN       NaN\n"
     ]
    }
   ],
   "source": [
    "df_year = Q2_data.melt(id_vars=['target'],value_vars=['year'],var_name='',value_name='year')\n",
    "# df_day.head()\n",
    "plt.rcParams['font.sans-serif'] = ['KaiTi','SimHei','FangSong']\n",
    "plt.rcParams['font.size'] = 12\n",
    "plt.rcParams['axes.unicode_minus'] = False\n",
    "df_year.colums=['target','year']\n",
    "sns.boxplot(x = 'target',y = 'year',data=df_year)\n",
    "plt.show()\n",
    "model_year = ols('target~C(year)',df_year).fit()\n",
    "anova_table=anova_lm(model_year)\n",
    "print(anova_table)"
   ]
  }
 ],
 "metadata": {
  "kernelspec": {
   "display_name": "Python 3 (ipykernel)",
   "language": "python",
   "name": "python3"
  },
  "language_info": {
   "codemirror_mode": {
    "name": "ipython",
    "version": 3
   },
   "file_extension": ".py",
   "mimetype": "text/x-python",
   "name": "python",
   "nbconvert_exporter": "python",
   "pygments_lexer": "ipython3",
   "version": "3.9.13"
  }
 },
 "nbformat": 4,
 "nbformat_minor": 5
}
